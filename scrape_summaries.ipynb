{
 "cells": [
  {
   "cell_type": "code",
   "execution_count": 2,
   "metadata": {},
   "outputs": [],
   "source": [
    "from bs4 import BeautifulSoup\n",
    "import pandas as pd\n",
    "import requests\n",
    "\n",
    "\n",
    "dt_links = []\n",
    "for yr in [str(y) for y in range(2010, 2022)]:\n",
    "    lpyr = 0\n",
    "    if int(yr) % 4 == 0: lpyr = 1\n",
    "    for mnth in [m for m in range(1, 13)]:\n",
    "        if mnth in [4, 6, 9, 11]:\n",
    "            dt_links.append(str(mnth) + '-' + '30' + '-' + str(yr))\n",
    "        if mnth in [1, 3, 5, 7, 8, 10, 12]:\n",
    "            dt_links.append(str(mnth) + '-' + '31' + '-' + str(yr))\n",
    "        if mnth == 2 and lpyr == 0:\n",
    "            dt_links.append(str(mnth) + '-' + '28' + '-' + str(yr))\n",
    "        elif mnth == 2 and lpyr == 1:\n",
    "            dt_links.append(str(mnth) + '-' + '29' + '-' + str(yr))\n",
    "\n",
    "podcast_info = {'podcast_date': [], 'title': [], \n",
    "                'summary': [], 'href': [], \n",
    "                'transcript_href': []}\n",
    "\n",
    "URL = 'https://www.npr.org/series/423302056/hidden-brain/archive?date='\n",
    "for dt in dt_links:\n",
    "    page = requests.get(URL + dt)\n",
    "    soup = BeautifulSoup(page.content, 'html.parser')\n",
    "    for x in soup.find_all(\"article\", {'class': 'item has-image'}): \n",
    "        x.decompose()\n",
    "    for item in soup.find_all('h2', {'class': 'title'}):\n",
    "        title = item.find('a').text\n",
    "        href = item.find('a')['href']\n",
    "        podcast_info['title'].append(title)\n",
    "        podcast_info['href'].append(href)\n",
    "    for p in soup.find_all('p', {'class': 'teaser'}):\n",
    "        podcast_date, summary = p.text.split('•')\n",
    "        podcast_info['podcast_date'].append(podcast_date)\n",
    "        podcast_info['summary'].append(summary)\n",
    "    for x in soup.find_all('ul', {'class': 'audio-module-more-tools'}):\n",
    "        transcript_class = x.find('li', {'class': 'audio-tool audio-tool-transcript'})\n",
    "        if not transcript_class:\n",
    "            podcast_info['transcript_href'].append(None)\n",
    "        else:\n",
    "            transcript_class_href = transcript_class.find('a')['href']\n",
    "            podcast_info['transcript_href'].append(transcript_class_href)\n",
    "\n",
    "df = pd.DataFrame.from_dict(podcast_info)\n",
    "df = df.drop_duplicates()\n",
    "\n",
    "df.to_csv('hidden_brain_podcast_summaries.csv', index=False)"
   ]
  },
  {
   "cell_type": "code",
   "execution_count": 2,
   "metadata": {},
   "outputs": [
    {
     "data": {
      "text/plain": [
       "podcast_date                                     September 22, 2015 \n",
       "title              Trying To Change, Or Changing The Subject? How...\n",
       "summary             The first episode of Hidden Brain explores sw...\n",
       "href               https://www.npr.org/2015/09/22/434597124/tryin...\n",
       "transcript_href            https://www.npr.org/transcripts/434597124\n",
       "Name: 680, dtype: object"
      ]
     },
     "execution_count": 2,
     "metadata": {},
     "output_type": "execute_result"
    }
   ],
   "source": [
    "df.iloc[200]"
   ]
  },
  {
   "cell_type": "code",
   "execution_count": 5,
   "metadata": {},
   "outputs": [],
   "source": [
    "def get_transcript(href):\n",
    "    k += 1\n",
    "    page = requests.get(href)\n",
    "    soup = BeautifulSoup(page.content, 'html.parser')\n",
    "    \n",
    "    transcript = []\n",
    "    for x in soup.find_all('p'):\n",
    "        transcript.append(x.text)\n",
    "    \n",
    "    return '\\n'.join(transcript)"
   ]
  },
  {
   "cell_type": "code",
   "execution_count": 3,
   "metadata": {},
   "outputs": [],
   "source": [
    "df['transcript'] = df['transcript_href'].map(lambda href: get_transcript(href) if href is not None else None)"
   ]
  },
  {
   "cell_type": "code",
   "execution_count": 8,
   "metadata": {},
   "outputs": [],
   "source": [
    "df.to_csv('podcast_transcripts.csv', index=False)"
   ]
  }
 ],
 "metadata": {
  "kernelspec": {
   "display_name": "Python 3",
   "language": "python",
   "name": "python3"
  },
  "language_info": {
   "codemirror_mode": {
    "name": "ipython",
    "version": 3
   },
   "file_extension": ".py",
   "mimetype": "text/x-python",
   "name": "python",
   "nbconvert_exporter": "python",
   "pygments_lexer": "ipython3",
   "version": "3.6.9"
  }
 },
 "nbformat": 4,
 "nbformat_minor": 4
}
