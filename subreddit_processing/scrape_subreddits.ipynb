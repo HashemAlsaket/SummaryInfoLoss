{
 "cells": [
  {
   "cell_type": "code",
   "execution_count": 3,
   "metadata": {},
   "outputs": [],
   "source": [
    "import datetime as dt\n",
    "import pandas as pd\n",
    "from psaw import PushshiftAPI\n",
    "\n",
    "\n",
    "api = PushshiftAPI()"
   ]
  },
  {
   "cell_type": "code",
   "execution_count": 4,
   "metadata": {},
   "outputs": [
    {
     "name": "stdout",
     "output_type": "stream",
     "text": [
      "politics\n",
      "science\n"
     ]
    },
    {
     "name": "stderr",
     "output_type": "stream",
     "text": [
      "C:\\Users\\deepmachine\\Anaconda3\\lib\\site-packages\\psaw\\PushshiftAPI.py:192: UserWarning: Got non 200 code 429\n",
      "  warnings.warn(\"Got non 200 code %s\" % response.status_code)\n",
      "C:\\Users\\deepmachine\\Anaconda3\\lib\\site-packages\\psaw\\PushshiftAPI.py:180: UserWarning: Unable to connect to pushshift.io. Retrying after backoff.\n",
      "  warnings.warn(\"Unable to connect to pushshift.io. Retrying after backoff.\")\n"
     ]
    },
    {
     "name": "stdout",
     "output_type": "stream",
     "text": [
      "sports\n",
      "weather\n",
      "worldnews\n"
     ]
    }
   ],
   "source": [
    "def get_date(created_utc):\n",
    "    return dt.datetime.fromtimestamp(created_utc)\n",
    "\n",
    "for topic in ['politics', 'science', 'sports', 'weather', 'worldnews']:\n",
    "    print(topic)\n",
    "    start_epoch=int(dt.datetime(2020, 9, 22).timestamp())\n",
    "\n",
    "    submissions = list(api.search_submissions(after=start_epoch,\n",
    "                                subreddit=topic,\n",
    "                                filter=['body','url','author', 'title', 'subreddit','score'],\n",
    "                                limit=1000))\n",
    "\n",
    "    topics_dict = { \"title\":[], \n",
    "                    \"score\":[], \n",
    "                    \"url\":[], \n",
    "                    \"created_utc\": []}\n",
    "\n",
    "    for submission in submissions:\n",
    "        topics_dict[\"title\"].append(submission.title)\n",
    "        topics_dict[\"score\"].append(submission.score)\n",
    "        topics_dict[\"url\"].append(submission.url)\n",
    "        topics_dict[\"created_utc\"].append(submission.created_utc)\n",
    "    \n",
    "    topics_data = pd.DataFrame(topics_dict)\n",
    "\n",
    "    _timestamp = topics_data[\"created_utc\"].apply(get_date)\n",
    "    topics_data = topics_data.assign(timestamp = _timestamp)\n",
    "    \n",
    "    topics_data['title'] = topics_data['title'].map(lambda x: x.lower())\n",
    "\n",
    "    topics_data.to_csv(topic + \".csv\",index=False)"
   ]
  }
 ],
 "metadata": {
  "kernelspec": {
   "display_name": "Python 3",
   "language": "python",
   "name": "python3"
  },
  "language_info": {
   "codemirror_mode": {
    "name": "ipython",
    "version": 3
   },
   "file_extension": ".py",
   "mimetype": "text/x-python",
   "name": "python",
   "nbconvert_exporter": "python",
   "pygments_lexer": "ipython3",
   "version": "3.6.9"
  }
 },
 "nbformat": 4,
 "nbformat_minor": 4
}
